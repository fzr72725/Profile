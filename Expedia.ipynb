{
 "cells": [
  {
   "cell_type": "markdown",
   "metadata": {},
   "source": [
    "train/test.csv\n",
    "<table width=100%>\n",
    "<tr>\n",
    "<th>Column name</th><th>Description</th><th>Data type</th>\n",
    "</tr>\n",
    "<tr>\n",
    "<td>date_time</td><td>Timestamp</td><td>string</td>\n",
    "</tr>\n",
    "<tr>\n",
    "<td>site_name</td><td>ID of the Expedia point of sale (i.e. Expedia.com, Expedia.co.uk, Expedia.co.jp, ...)</td><td>int</td>\n",
    "</tr>\n",
    "<tr>\n",
    "<td>posa_continent</td><td>ID of continent associated with site_name</td><td>int</td>\n",
    "</tr>\n",
    "<tr>\n",
    "<td>user_location_country</td><td>The ID of the country the customer is located</td><td>int</td>\n",
    "</tr>\n",
    "<tr>\n",
    "<td>user_location_region</td><td>The ID of the region the customer is located</td><td>int</td>\n",
    "</tr>\n",
    "<tr>\n",
    "<td>user_location_city</td><td>The ID of the city the customer is located</td><td>int</td>\n",
    "</tr>\n",
    "<tr>\n",
    "<td>orig_destination_distance</td><td>Physical distance between a hotel and a customer at the time of search. A null means the distance could not be calculated</td><td>double</td>\n",
    "</tr>\n",
    "<tr>\n",
    "<td>user_id</td><td>ID of user</td><td>int</td>\n",
    "</tr>\n",
    "<tr>\n",
    "<td>is_mobile</td><td>1 when a user connected from a mobile device, 0 otherwise</td><td>tinyint</td>\n",
    "</tr>\n",
    "<tr>\n",
    "<td>is_package</td><td>1 if the click/booking was generated as a part of a package (i.e. combined with a flight), 0 otherwise</td><td>int</td>\n",
    "</tr>\n",
    "<tr>\n",
    "<td>channel</td><td>ID of a marketing channel</td><td>int</td>\n",
    "</tr>\n",
    "<tr>\n",
    "<td>srch_ci</td><td>Checkin date</td><td>string</td>\n",
    "</tr>\n",
    "<tr>\n",
    "<td>srch_co</td><td>Checkout date</td><td>string</td>\n",
    "</tr>\n",
    "<tr>\n",
    "<td>srch_adults_cnt</td><td>The number of adults specified in the hotel room</td><td>int</td>\n",
    "</tr>\n",
    "<tr>\n",
    "<td>srch_children_cnt</td><td>The number of (extra occupancy) children specified in the hotel room</td><td>int</td>\n",
    "</tr>\n",
    "<tr>\n",
    "<td>srch_rm_cnt</td><td>The number of hotel rooms specified in the search</td><td>int</td>\n",
    "</tr>\n",
    "<tr>\n",
    "<td>srch_destination_id</td><td>ID of the destination where the hotel search was performed</td><td>int</td>\n",
    "</tr>\n",
    "<tr>\n",
    "<td>srch_destination_type_id</td><td>Type of destination</td><td>int</td>\n",
    "</tr>\n",
    "<tr>\n",
    "<td>hotel_continent</td><td>Hotel continent</td><td>int</td>\n",
    "</tr>\n",
    "<tr>\n",
    "<td>hotel_country</td><td>Hotel country</td><td>int</td>\n",
    "</tr>\n",
    "<tr>\n",
    "<td>hotel_market</td><td>Hotel market</td><td>int</td>\n",
    "</tr>\n",
    "<tr>\n",
    "<td>is_booking</td><td>1 if a booking, 0 if a click</td><td>tinyint</td>\n",
    "</tr>\n",
    "<tr>\n",
    "<td>cnt</td><td>Numer of similar events in the context of the same user session</td><td>bigint</td>\n",
    "</tr>\n",
    "<tr>\n",
    "<td>hotel_cluster</td><td>ID of a hotel cluster</td><td>int</td>\n",
    "</tr>\n",
    "</table>\n",
    "\n",
    "destinations.csv\n",
    "<table width=100%>\n",
    "<tr>\n",
    "<th>Column name</th><th>Description</th><th>Data type</th>\n",
    "</tr>\n",
    "<tr>\n",
    "<td>srch_destination_id</td><td>ID of the destination where the hotel search was performed</td><td>int</td>\n",
    "</tr>\n",
    "<tr>\n",
    "<td>d1-d149</td><td>latent description of search regions</td><td>double</td>\n",
    "</tr>\n",
    "</table>"
   ]
  },
  {
   "cell_type": "markdown",
   "metadata": {},
   "source": [
    "**The prediction required 5 clusters as the pred result, and the earlier the correct cluster appears in the list of 5, the high the result will score**"
   ]
  },
  {
   "cell_type": "code",
   "execution_count": 28,
   "metadata": {
    "collapsed": true
   },
   "outputs": [],
   "source": [
    "import pandas as pd\n",
    "import numpy as np\n",
    "from IPython.display import display\n",
    "import ml_metrics as metrics\n",
    "\n",
    "%matplotlib inline"
   ]
  },
  {
   "cell_type": "code",
   "execution_count": 4,
   "metadata": {
    "collapsed": false
   },
   "outputs": [],
   "source": [
    "destinations = pd.read_csv('data/destinations_expedia.csv')\n",
    "# Get a smaller train and test file first to test the algorithms before using the entire dataset\n",
    "train = pd.read_csv('data/train_small.csv')\n",
    "test = pd.read_csv('data/test_small.csv')"
   ]
  },
  {
   "cell_type": "code",
   "execution_count": 5,
   "metadata": {
    "collapsed": false
   },
   "outputs": [
    {
     "data": {
      "text/plain": [
       "(49999, 24)"
      ]
     },
     "execution_count": 5,
     "metadata": {},
     "output_type": "execute_result"
    }
   ],
   "source": [
    "train.shape"
   ]
  },
  {
   "cell_type": "code",
   "execution_count": 6,
   "metadata": {
    "collapsed": false
   },
   "outputs": [
    {
     "data": {
      "text/plain": [
       "(9999, 22)"
      ]
     },
     "execution_count": 6,
     "metadata": {},
     "output_type": "execute_result"
    }
   ],
   "source": [
    "test.shape"
   ]
  },
  {
   "cell_type": "code",
   "execution_count": 10,
   "metadata": {
    "collapsed": false
   },
   "outputs": [
    {
     "data": {
      "text/html": [
       "<div>\n",
       "<table border=\"1\" class=\"dataframe\">\n",
       "  <thead>\n",
       "    <tr style=\"text-align: right;\">\n",
       "      <th></th>\n",
       "      <th>date_time</th>\n",
       "      <th>site_name</th>\n",
       "      <th>posa_continent</th>\n",
       "      <th>user_location_country</th>\n",
       "      <th>user_location_region</th>\n",
       "      <th>user_location_city</th>\n",
       "      <th>orig_destination_distance</th>\n",
       "      <th>user_id</th>\n",
       "      <th>is_mobile</th>\n",
       "      <th>is_package</th>\n",
       "      <th>channel</th>\n",
       "      <th>srch_ci</th>\n",
       "      <th>srch_co</th>\n",
       "      <th>srch_adults_cnt</th>\n",
       "      <th>srch_children_cnt</th>\n",
       "      <th>srch_rm_cnt</th>\n",
       "      <th>srch_destination_id</th>\n",
       "      <th>srch_destination_type_id</th>\n",
       "      <th>is_booking</th>\n",
       "      <th>cnt</th>\n",
       "      <th>hotel_continent</th>\n",
       "      <th>hotel_country</th>\n",
       "      <th>hotel_market</th>\n",
       "      <th>hotel_cluster</th>\n",
       "    </tr>\n",
       "  </thead>\n",
       "  <tbody>\n",
       "    <tr>\n",
       "      <th>0</th>\n",
       "      <td>2014-08-11 07:46:59</td>\n",
       "      <td>2</td>\n",
       "      <td>3</td>\n",
       "      <td>66</td>\n",
       "      <td>348</td>\n",
       "      <td>48862</td>\n",
       "      <td>2234.2641</td>\n",
       "      <td>12</td>\n",
       "      <td>0</td>\n",
       "      <td>1</td>\n",
       "      <td>9</td>\n",
       "      <td>2014-08-27</td>\n",
       "      <td>2014-08-31</td>\n",
       "      <td>2</td>\n",
       "      <td>0</td>\n",
       "      <td>1</td>\n",
       "      <td>8250</td>\n",
       "      <td>1</td>\n",
       "      <td>0</td>\n",
       "      <td>3</td>\n",
       "      <td>2</td>\n",
       "      <td>50</td>\n",
       "      <td>628</td>\n",
       "      <td>1</td>\n",
       "    </tr>\n",
       "    <tr>\n",
       "      <th>1</th>\n",
       "      <td>2014-08-11 08:22:12</td>\n",
       "      <td>2</td>\n",
       "      <td>3</td>\n",
       "      <td>66</td>\n",
       "      <td>348</td>\n",
       "      <td>48862</td>\n",
       "      <td>2234.2641</td>\n",
       "      <td>12</td>\n",
       "      <td>0</td>\n",
       "      <td>1</td>\n",
       "      <td>9</td>\n",
       "      <td>2014-08-29</td>\n",
       "      <td>2014-09-02</td>\n",
       "      <td>2</td>\n",
       "      <td>0</td>\n",
       "      <td>1</td>\n",
       "      <td>8250</td>\n",
       "      <td>1</td>\n",
       "      <td>1</td>\n",
       "      <td>1</td>\n",
       "      <td>2</td>\n",
       "      <td>50</td>\n",
       "      <td>628</td>\n",
       "      <td>1</td>\n",
       "    </tr>\n",
       "    <tr>\n",
       "      <th>2</th>\n",
       "      <td>2014-08-11 08:24:33</td>\n",
       "      <td>2</td>\n",
       "      <td>3</td>\n",
       "      <td>66</td>\n",
       "      <td>348</td>\n",
       "      <td>48862</td>\n",
       "      <td>2234.2641</td>\n",
       "      <td>12</td>\n",
       "      <td>0</td>\n",
       "      <td>0</td>\n",
       "      <td>9</td>\n",
       "      <td>2014-08-29</td>\n",
       "      <td>2014-09-02</td>\n",
       "      <td>2</td>\n",
       "      <td>0</td>\n",
       "      <td>1</td>\n",
       "      <td>8250</td>\n",
       "      <td>1</td>\n",
       "      <td>0</td>\n",
       "      <td>1</td>\n",
       "      <td>2</td>\n",
       "      <td>50</td>\n",
       "      <td>628</td>\n",
       "      <td>1</td>\n",
       "    </tr>\n",
       "    <tr>\n",
       "      <th>3</th>\n",
       "      <td>2014-08-09 18:05:16</td>\n",
       "      <td>2</td>\n",
       "      <td>3</td>\n",
       "      <td>66</td>\n",
       "      <td>442</td>\n",
       "      <td>35390</td>\n",
       "      <td>913.1932</td>\n",
       "      <td>93</td>\n",
       "      <td>0</td>\n",
       "      <td>0</td>\n",
       "      <td>3</td>\n",
       "      <td>2014-11-23</td>\n",
       "      <td>2014-11-28</td>\n",
       "      <td>2</td>\n",
       "      <td>0</td>\n",
       "      <td>1</td>\n",
       "      <td>14984</td>\n",
       "      <td>1</td>\n",
       "      <td>0</td>\n",
       "      <td>1</td>\n",
       "      <td>2</td>\n",
       "      <td>50</td>\n",
       "      <td>1457</td>\n",
       "      <td>80</td>\n",
       "    </tr>\n",
       "    <tr>\n",
       "      <th>4</th>\n",
       "      <td>2014-08-09 18:08:18</td>\n",
       "      <td>2</td>\n",
       "      <td>3</td>\n",
       "      <td>66</td>\n",
       "      <td>442</td>\n",
       "      <td>35390</td>\n",
       "      <td>913.6259</td>\n",
       "      <td>93</td>\n",
       "      <td>0</td>\n",
       "      <td>0</td>\n",
       "      <td>3</td>\n",
       "      <td>2014-11-23</td>\n",
       "      <td>2014-11-28</td>\n",
       "      <td>2</td>\n",
       "      <td>0</td>\n",
       "      <td>1</td>\n",
       "      <td>14984</td>\n",
       "      <td>1</td>\n",
       "      <td>0</td>\n",
       "      <td>1</td>\n",
       "      <td>2</td>\n",
       "      <td>50</td>\n",
       "      <td>1457</td>\n",
       "      <td>21</td>\n",
       "    </tr>\n",
       "  </tbody>\n",
       "</table>\n",
       "</div>"
      ],
      "text/plain": [
       "             date_time  site_name  posa_continent  user_location_country  \\\n",
       "0  2014-08-11 07:46:59          2               3                     66   \n",
       "1  2014-08-11 08:22:12          2               3                     66   \n",
       "2  2014-08-11 08:24:33          2               3                     66   \n",
       "3  2014-08-09 18:05:16          2               3                     66   \n",
       "4  2014-08-09 18:08:18          2               3                     66   \n",
       "\n",
       "   user_location_region  user_location_city  orig_destination_distance  \\\n",
       "0                   348               48862                  2234.2641   \n",
       "1                   348               48862                  2234.2641   \n",
       "2                   348               48862                  2234.2641   \n",
       "3                   442               35390                   913.1932   \n",
       "4                   442               35390                   913.6259   \n",
       "\n",
       "   user_id  is_mobile  is_package  channel     srch_ci     srch_co  \\\n",
       "0       12          0           1        9  2014-08-27  2014-08-31   \n",
       "1       12          0           1        9  2014-08-29  2014-09-02   \n",
       "2       12          0           0        9  2014-08-29  2014-09-02   \n",
       "3       93          0           0        3  2014-11-23  2014-11-28   \n",
       "4       93          0           0        3  2014-11-23  2014-11-28   \n",
       "\n",
       "   srch_adults_cnt  srch_children_cnt  srch_rm_cnt  srch_destination_id  \\\n",
       "0                2                  0            1                 8250   \n",
       "1                2                  0            1                 8250   \n",
       "2                2                  0            1                 8250   \n",
       "3                2                  0            1                14984   \n",
       "4                2                  0            1                14984   \n",
       "\n",
       "   srch_destination_type_id  is_booking  cnt  hotel_continent  hotel_country  \\\n",
       "0                         1           0    3                2             50   \n",
       "1                         1           1    1                2             50   \n",
       "2                         1           0    1                2             50   \n",
       "3                         1           0    1                2             50   \n",
       "4                         1           0    1                2             50   \n",
       "\n",
       "   hotel_market  hotel_cluster  \n",
       "0           628              1  \n",
       "1           628              1  \n",
       "2           628              1  \n",
       "3          1457             80  \n",
       "4          1457             21  "
      ]
     },
     "metadata": {},
     "output_type": "display_data"
    }
   ],
   "source": [
    "pd.options.display.max_columns = None\n",
    "display(train[:5])"
   ]
  },
  {
   "cell_type": "code",
   "execution_count": 11,
   "metadata": {
    "collapsed": false
   },
   "outputs": [
    {
     "data": {
      "text/html": [
       "<div>\n",
       "<table border=\"1\" class=\"dataframe\">\n",
       "  <thead>\n",
       "    <tr style=\"text-align: right;\">\n",
       "      <th></th>\n",
       "      <th>id</th>\n",
       "      <th>date_time</th>\n",
       "      <th>site_name</th>\n",
       "      <th>posa_continent</th>\n",
       "      <th>user_location_country</th>\n",
       "      <th>user_location_region</th>\n",
       "      <th>user_location_city</th>\n",
       "      <th>orig_destination_distance</th>\n",
       "      <th>user_id</th>\n",
       "      <th>is_mobile</th>\n",
       "      <th>is_package</th>\n",
       "      <th>channel</th>\n",
       "      <th>srch_ci</th>\n",
       "      <th>srch_co</th>\n",
       "      <th>srch_adults_cnt</th>\n",
       "      <th>srch_children_cnt</th>\n",
       "      <th>srch_rm_cnt</th>\n",
       "      <th>srch_destination_id</th>\n",
       "      <th>srch_destination_type_id</th>\n",
       "      <th>hotel_continent</th>\n",
       "      <th>hotel_country</th>\n",
       "      <th>hotel_market</th>\n",
       "    </tr>\n",
       "  </thead>\n",
       "  <tbody>\n",
       "    <tr>\n",
       "      <th>0</th>\n",
       "      <td>0</td>\n",
       "      <td>2015-09-03 17:09:54</td>\n",
       "      <td>2</td>\n",
       "      <td>3</td>\n",
       "      <td>66</td>\n",
       "      <td>174</td>\n",
       "      <td>37449</td>\n",
       "      <td>5539.0567</td>\n",
       "      <td>1</td>\n",
       "      <td>1</td>\n",
       "      <td>0</td>\n",
       "      <td>3</td>\n",
       "      <td>2016-05-19</td>\n",
       "      <td>2016-05-23</td>\n",
       "      <td>2</td>\n",
       "      <td>0</td>\n",
       "      <td>1</td>\n",
       "      <td>12243</td>\n",
       "      <td>6</td>\n",
       "      <td>6</td>\n",
       "      <td>204</td>\n",
       "      <td>27</td>\n",
       "    </tr>\n",
       "    <tr>\n",
       "      <th>1</th>\n",
       "      <td>1</td>\n",
       "      <td>2015-09-24 17:38:35</td>\n",
       "      <td>2</td>\n",
       "      <td>3</td>\n",
       "      <td>66</td>\n",
       "      <td>174</td>\n",
       "      <td>37449</td>\n",
       "      <td>5873.2923</td>\n",
       "      <td>1</td>\n",
       "      <td>1</td>\n",
       "      <td>0</td>\n",
       "      <td>10</td>\n",
       "      <td>2016-05-12</td>\n",
       "      <td>2016-05-15</td>\n",
       "      <td>2</td>\n",
       "      <td>0</td>\n",
       "      <td>1</td>\n",
       "      <td>14474</td>\n",
       "      <td>7</td>\n",
       "      <td>6</td>\n",
       "      <td>204</td>\n",
       "      <td>1540</td>\n",
       "    </tr>\n",
       "    <tr>\n",
       "      <th>2</th>\n",
       "      <td>2</td>\n",
       "      <td>2015-06-07 15:53:02</td>\n",
       "      <td>2</td>\n",
       "      <td>3</td>\n",
       "      <td>66</td>\n",
       "      <td>142</td>\n",
       "      <td>17440</td>\n",
       "      <td>3975.9776</td>\n",
       "      <td>20</td>\n",
       "      <td>0</td>\n",
       "      <td>0</td>\n",
       "      <td>1</td>\n",
       "      <td>2015-07-26</td>\n",
       "      <td>2015-07-27</td>\n",
       "      <td>4</td>\n",
       "      <td>0</td>\n",
       "      <td>1</td>\n",
       "      <td>11353</td>\n",
       "      <td>1</td>\n",
       "      <td>2</td>\n",
       "      <td>50</td>\n",
       "      <td>699</td>\n",
       "    </tr>\n",
       "    <tr>\n",
       "      <th>3</th>\n",
       "      <td>3</td>\n",
       "      <td>2015-09-14 14:49:10</td>\n",
       "      <td>2</td>\n",
       "      <td>3</td>\n",
       "      <td>66</td>\n",
       "      <td>258</td>\n",
       "      <td>34156</td>\n",
       "      <td>1508.5975</td>\n",
       "      <td>28</td>\n",
       "      <td>0</td>\n",
       "      <td>1</td>\n",
       "      <td>10</td>\n",
       "      <td>2015-09-14</td>\n",
       "      <td>2015-09-16</td>\n",
       "      <td>2</td>\n",
       "      <td>0</td>\n",
       "      <td>1</td>\n",
       "      <td>8250</td>\n",
       "      <td>1</td>\n",
       "      <td>2</td>\n",
       "      <td>50</td>\n",
       "      <td>628</td>\n",
       "    </tr>\n",
       "    <tr>\n",
       "      <th>4</th>\n",
       "      <td>4</td>\n",
       "      <td>2015-07-17 09:32:04</td>\n",
       "      <td>2</td>\n",
       "      <td>3</td>\n",
       "      <td>66</td>\n",
       "      <td>467</td>\n",
       "      <td>36345</td>\n",
       "      <td>66.7913</td>\n",
       "      <td>50</td>\n",
       "      <td>0</td>\n",
       "      <td>0</td>\n",
       "      <td>0</td>\n",
       "      <td>2015-07-22</td>\n",
       "      <td>2015-07-23</td>\n",
       "      <td>2</td>\n",
       "      <td>0</td>\n",
       "      <td>1</td>\n",
       "      <td>11812</td>\n",
       "      <td>1</td>\n",
       "      <td>2</td>\n",
       "      <td>50</td>\n",
       "      <td>538</td>\n",
       "    </tr>\n",
       "  </tbody>\n",
       "</table>\n",
       "</div>"
      ],
      "text/plain": [
       "   id            date_time  site_name  posa_continent  user_location_country  \\\n",
       "0   0  2015-09-03 17:09:54          2               3                     66   \n",
       "1   1  2015-09-24 17:38:35          2               3                     66   \n",
       "2   2  2015-06-07 15:53:02          2               3                     66   \n",
       "3   3  2015-09-14 14:49:10          2               3                     66   \n",
       "4   4  2015-07-17 09:32:04          2               3                     66   \n",
       "\n",
       "   user_location_region  user_location_city  orig_destination_distance  \\\n",
       "0                   174               37449                  5539.0567   \n",
       "1                   174               37449                  5873.2923   \n",
       "2                   142               17440                  3975.9776   \n",
       "3                   258               34156                  1508.5975   \n",
       "4                   467               36345                    66.7913   \n",
       "\n",
       "   user_id  is_mobile  is_package  channel     srch_ci     srch_co  \\\n",
       "0        1          1           0        3  2016-05-19  2016-05-23   \n",
       "1        1          1           0       10  2016-05-12  2016-05-15   \n",
       "2       20          0           0        1  2015-07-26  2015-07-27   \n",
       "3       28          0           1       10  2015-09-14  2015-09-16   \n",
       "4       50          0           0        0  2015-07-22  2015-07-23   \n",
       "\n",
       "   srch_adults_cnt  srch_children_cnt  srch_rm_cnt  srch_destination_id  \\\n",
       "0                2                  0            1                12243   \n",
       "1                2                  0            1                14474   \n",
       "2                4                  0            1                11353   \n",
       "3                2                  0            1                 8250   \n",
       "4                2                  0            1                11812   \n",
       "\n",
       "   srch_destination_type_id  hotel_continent  hotel_country  hotel_market  \n",
       "0                         6                6            204            27  \n",
       "1                         7                6            204          1540  \n",
       "2                         1                2             50           699  \n",
       "3                         1                2             50           628  \n",
       "4                         1                2             50           538  "
      ]
     },
     "metadata": {},
     "output_type": "display_data"
    }
   ],
   "source": [
    "display(test[:5])"
   ]
  },
  {
   "cell_type": "code",
   "execution_count": 13,
   "metadata": {
    "collapsed": false
   },
   "outputs": [
    {
     "data": {
      "text/plain": [
       "91    1387\n",
       "41    1127\n",
       "48    1027\n",
       "64     986\n",
       "65     856\n",
       "42     798\n",
       "70     784\n",
       "5      769\n",
       "25     768\n",
       "46     728\n",
       "97     715\n",
       "83     705\n",
       "59     694\n",
       "21     693\n",
       "37     685\n",
       "98     680\n",
       "95     679\n",
       "58     652\n",
       "2      649\n",
       "18     648\n",
       "30     645\n",
       "82     642\n",
       "50     639\n",
       "16     637\n",
       "72     628\n",
       "28     621\n",
       "68     615\n",
       "62     612\n",
       "9      607\n",
       "10     596\n",
       "      ... \n",
       "38     373\n",
       "12     365\n",
       "7      365\n",
       "86     363\n",
       "19     358\n",
       "43     358\n",
       "89     352\n",
       "81     348\n",
       "23     344\n",
       "31     342\n",
       "79     338\n",
       "14     334\n",
       "63     334\n",
       "32     326\n",
       "66     325\n",
       "3      316\n",
       "45     310\n",
       "80     303\n",
       "49     301\n",
       "87     287\n",
       "71     274\n",
       "93     274\n",
       "60     258\n",
       "35     224\n",
       "75     224\n",
       "24     210\n",
       "53     185\n",
       "27     163\n",
       "88     126\n",
       "74      60\n",
       "Name: hotel_cluster, dtype: int64"
      ]
     },
     "execution_count": 13,
     "metadata": {},
     "output_type": "execute_result"
    }
   ],
   "source": [
    "# See how many searches are there in each hotel cluster\n",
    "train.hotel_cluster.value_counts()"
   ]
  },
  {
   "cell_type": "code",
   "execution_count": 16,
   "metadata": {
    "collapsed": true
   },
   "outputs": [],
   "source": [
    "# In order to see if the user_ids in test.csv is a subset of the ones in train.csv, we'll need to entire datasets\n",
    "train = pd.read_csv('data/train_expedia.csv')\n",
    "test = pd.read_csv('data/test_expedia.csv')"
   ]
  },
  {
   "cell_type": "code",
   "execution_count": 17,
   "metadata": {
    "collapsed": false
   },
   "outputs": [
    {
     "data": {
      "text/plain": [
       "True"
      ]
     },
     "execution_count": 17,
     "metadata": {},
     "output_type": "execute_result"
    }
   ],
   "source": [
    "test_ids = set(test.user_id.unique())\n",
    "train_ids = set(train.user_id.unique())\n",
    "intersection_count = len(test_ids & train_ids)\n",
    "intersection_count == len(test_ids)"
   ]
  },
  {
   "cell_type": "markdown",
   "metadata": {},
   "source": [
    "**Looking into destinations.csv file**"
   ]
  },
  {
   "cell_type": "code",
   "execution_count": null,
   "metadata": {
    "collapsed": true
   },
   "outputs": [],
   "source": [
    "destinations[:5]"
   ]
  },
  {
   "cell_type": "code",
   "execution_count": null,
   "metadata": {
    "collapsed": true
   },
   "outputs": [],
   "source": [
    "from sklearn.decomposition import PCA"
   ]
  },
  {
   "cell_type": "code",
   "execution_count": null,
   "metadata": {
    "collapsed": true
   },
   "outputs": [],
   "source": [
    "pca = PCA(n_components=3)\n",
    "dest_small = pd.DataFrame(pca.fit_transform(destinations.drop('srch_destination_id',axis=1)))\n",
    "dest_small['srch_destination_id'] = destinations['srch_destination_id']"
   ]
  },
  {
   "cell_type": "code",
   "execution_count": null,
   "metadata": {
    "collapsed": true
   },
   "outputs": [],
   "source": [
    "destinations[:5]"
   ]
  },
  {
   "cell_type": "markdown",
   "metadata": {},
   "source": [
    "**True shows that all user ids in test.csv are indeed a subset of those of train.csv**"
   ]
  },
  {
   "cell_type": "code",
   "execution_count": 19,
   "metadata": {
    "collapsed": false
   },
   "outputs": [],
   "source": [
    "# Using date_time column to generate new features\n",
    "#train.loc[0].date_time.split(' ')[0].split('-')[1]\n",
    "#train['month'] = train.date_time.split(' ')[0].split('-')[1]\n",
    "train['year'] = pd.to_datetime(train['date_time']).dt.year\n",
    "train['month'] = pd.to_datetime(train['date_time']).dt.month"
   ]
  },
  {
   "cell_type": "code",
   "execution_count": 43,
   "metadata": {
    "collapsed": true
   },
   "outputs": [],
   "source": [
    "# Convert non-numerical fields into numerical\n",
    "train['date_time'] = pd.to_datetime(train['date_time'])\n",
    "train['srch_ci'] = pd.to_datetime(train['srch_ci'], format='%Y-%m-%d', errors='coerce')\n",
    "train['srch_co'] = pd.to_datetime(train['srch_co'], format='%Y-%m-%d', errors='coerce')"
   ]
  },
  {
   "cell_type": "code",
   "execution_count": 53,
   "metadata": {
    "collapsed": false
   },
   "outputs": [],
   "source": [
    "props = {}\n",
    "for prop in [\"month\", \"day\", \"hour\", \"minute\", \"dayofweek\", \"quarter\"]:\n",
    "    props[prop] = getattr(train[\"date_time\"].dt, prop)"
   ]
  },
  {
   "cell_type": "code",
   "execution_count": 54,
   "metadata": {
    "collapsed": true
   },
   "outputs": [],
   "source": [
    "carryover = [p for p in train.columns if p not in [\"date_time\", \"srch_ci\", \"srch_co\"]]\n",
    "for prop in carryover:\n",
    "    props[prop] = train[prop]"
   ]
  },
  {
   "cell_type": "code",
   "execution_count": 56,
   "metadata": {
    "collapsed": false
   },
   "outputs": [],
   "source": [
    "# Calculate the days between check-in and check-out dates\n",
    "date_props = [\"month\", \"day\", \"dayofweek\", \"quarter\"]\n",
    "for prop in date_props:\n",
    "    props[\"ci_{0}\".format(prop)] = getattr(train[\"srch_ci\"].dt, prop)\n",
    "    props[\"co_{0}\".format(prop)] = getattr(train[\"srch_co\"].dt, prop)\n",
    "props[\"stay_span\"] = (train[\"srch_co\"] - train[\"srch_ci\"]).astype('timedelta64[h]')"
   ]
  },
  {
   "cell_type": "code",
   "execution_count": 60,
   "metadata": {
    "collapsed": true
   },
   "outputs": [],
   "source": [
    "train_new = pd.DataFrame(props).join(dest_small, on=\"srch_destination_id\", how='left', rsuffix=\"dest\")"
   ]
  },
  {
   "cell_type": "code",
   "execution_count": 61,
   "metadata": {
    "collapsed": false
   },
   "outputs": [
    {
     "data": {
      "text/plain": [
       "(37670293, 41)"
      ]
     },
     "execution_count": 61,
     "metadata": {},
     "output_type": "execute_result"
    }
   ],
   "source": [
    "train_new.shape"
   ]
  },
  {
   "cell_type": "code",
   "execution_count": 62,
   "metadata": {
    "collapsed": false
   },
   "outputs": [],
   "source": [
    "# Get a smaller dataset using random sampling\n",
    "sel_train = train_new.sample(n=50000, random_state=123)"
   ]
  },
  {
   "cell_type": "code",
   "execution_count": 63,
   "metadata": {
    "collapsed": false
   },
   "outputs": [],
   "source": [
    "# sel_train.shape"
   ]
  },
  {
   "cell_type": "code",
   "execution_count": 64,
   "metadata": {
    "collapsed": true
   },
   "outputs": [],
   "source": [
    "# Split the sample set into training and testing sets, t1 is for training and t2 is for testing\n",
    "t1 = sel_train[((sel_train.year == 2013) | ((sel_train.year == 2014) & (sel_train.month < 8)))]\n",
    "t2 = sel_train[((sel_train.year == 2014) & (sel_train.month >= 8))]"
   ]
  },
  {
   "cell_type": "code",
   "execution_count": 65,
   "metadata": {
    "collapsed": true
   },
   "outputs": [],
   "source": [
    "# Since the real testing data contains only booking events, we'll remove the clicking events from t2\n",
    "t2 = t2[t2.is_booking==1]"
   ]
  }
 ],
 "metadata": {
  "kernelspec": {
   "display_name": "Python 2",
   "language": "python",
   "name": "python2"
  },
  "language_info": {
   "codemirror_mode": {
    "name": "ipython",
    "version": 2
   },
   "file_extension": ".py",
   "mimetype": "text/x-python",
   "name": "python",
   "nbconvert_exporter": "python",
   "pygments_lexer": "ipython2",
   "version": "2.7.10"
  }
 },
 "nbformat": 4,
 "nbformat_minor": 0
}
